{
 "cells": [
  {
   "cell_type": "code",
   "execution_count": 1,
   "metadata": {},
   "outputs": [],
   "source": [
    "def clockAngle(hour, minute):\n",
    "    hour_loc = (hour * 30) + (minute * 30 / 60)\n",
    "    minute *= 6\n",
    "    result = abs(hour_loc - minute)\n",
    "\n",
    "    if (result > 180):\n",
    "        return 360 - result\n",
    "    return result"
   ]
  },
  {
   "cell_type": "code",
   "execution_count": 2,
   "metadata": {},
   "outputs": [
    {
     "name": "stdout",
     "output_type": "stream",
     "text": [
      "saat: 0:0'de aci -->  0.0\n",
      "saat: 3:15'de aci -->  7.5\n",
      "saat: 3:20'de aci -->  20.0\n",
      "saat: 3:45'de aci -->  157.5\n",
      "saat: 6:30'de aci -->  15.0\n",
      "saat: 9:15'de aci -->  172.5\n"
     ]
    }
   ],
   "source": [
    "trials = [\n",
    "    [0, 0],\n",
    "    [3, 15],\n",
    "    [3, 20],\n",
    "    [3, 45],\n",
    "    [6, 30],\n",
    "    [9, 15]\n",
    "]\n",
    "\n",
    "for i in trials:\n",
    "    print(f\"saat: {i[0]}:{i[1]}'de aci --> \", clockAngle(i[0], i[1]))"
   ]
  },
  {
   "cell_type": "code",
   "execution_count": null,
   "metadata": {},
   "outputs": [],
   "source": []
  }
 ],
 "metadata": {
  "interpreter": {
   "hash": "4800c9a39adaa0c8765317c41af873c7b6ed4d2670d38dacbf28f56f976237f1"
  },
  "kernelspec": {
   "display_name": "Python 3.7.6 64-bit",
   "language": "python",
   "name": "python3"
  },
  "language_info": {
   "codemirror_mode": {
    "name": "ipython",
    "version": 3
   },
   "file_extension": ".py",
   "mimetype": "text/x-python",
   "name": "python",
   "nbconvert_exporter": "python",
   "pygments_lexer": "ipython3",
   "version": "3.7.6"
  },
  "orig_nbformat": 4
 },
 "nbformat": 4,
 "nbformat_minor": 2
}
